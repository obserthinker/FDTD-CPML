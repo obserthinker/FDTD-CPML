{
 "cells": [
  {
   "cell_type": "markdown",
   "metadata": {},
   "source": [
    "# FDTD-CPML 2D FDTD, TM, Hx, Hy & Ez.\n",
    "FDTD with CPML (Convolutional Perfectly Matched Layer)"
   ]
  },
  {
   "cell_type": "markdown",
   "metadata": {},
   "source": [
    "## Pre: Coefficients and The Set of PML"
   ]
  },
  {
   "cell_type": "markdown",
   "metadata": {},
   "source": [
    "There are two types of form of coordinate stretched factor. The first is:\n",
    "$$s_w=\\kappa_w\n",
    "+\n",
    "\\frac{\\sigma_w}{j\\omega\\epsilon_0},$$\n",
    "and the other is:\n",
    "$$s_w=\\kappa_w\n",
    "+\n",
    "\\frac{\\sigma_w}{a_w + j\\omega\\epsilon_0}.$$\n",
    "Here, we adopt the second one."
   ]
  },
  {
   "cell_type": "markdown",
   "metadata": {},
   "source": [
    "$$\\alpha = \\frac{\\sigma_w}{\\epsilon_0 \\kappa_w}$$"
   ]
  },
  {
   "cell_type": "markdown",
   "metadata": {},
   "source": [
    "$$c_{w}=\\frac{1}{\\kappa_w}\\left\\{\n",
    "    exp\\left[\n",
    "        -\\frac{\\sigma_w\\Delta t}{\\epsilon_0 \\kappa_w}\n",
    "        \\right]-1\n",
    "    \\right\\}$$"
   ]
  },
  {
   "cell_type": "markdown",
   "metadata": {},
   "source": [
    "$$\\sigma_{max}=\\frac{m+1}{\\sqrt{\\epsilon_r}150\\pi\\delta}$$"
   ]
  },
  {
   "cell_type": "markdown",
   "metadata": {},
   "source": [
    "$$\\sigma_z(z) = \\frac{\\sigma_{max}|z-z_0|^m}{d^m}$$"
   ]
  },
  {
   "cell_type": "markdown",
   "metadata": {},
   "source": [
    "$k_{max}=5 ~--~ 11$, There is 8. $d$ is the width of the PML layer. $m$ is a integer, we set $m=4$."
   ]
  },
  {
   "cell_type": "markdown",
   "metadata": {},
   "source": [
    "$$\\kappa_z(z) = 1 + (\\kappa_{max} - 1)\\frac{|z-z_0|^m}{d^m}$$"
   ]
  },
  {
   "cell_type": "markdown",
   "metadata": {},
   "source": [
    "$$CA(m) = \\frac{\n",
    "    1-\\frac{\\sigma(m)\\Delta t}{2\\epsilon(m)}\n",
    "}{\n",
    "1+\\frac{\\sigma(m)\\Delta t}{2\\epsilon(m)}    \n",
    "}$$"
   ]
  },
  {
   "cell_type": "markdown",
   "metadata": {},
   "source": [
    "$$CB(m)=\\frac{\n",
    "    \\frac{\\Delta t}{\\epsilon(m)}\n",
    "}{\n",
    " 1+\\frac{\\sigma(m)\\Delta t}{2\\epsilon(m)}   \n",
    "}$$"
   ]
  },
  {
   "cell_type": "markdown",
   "metadata": {},
   "source": [
    "$$CP(m) = \\frac{\n",
    "    1-\\frac{\\sigma_m(m)\\Delta t}{2\\mu(m)}\n",
    "}{\n",
    "  1+\\frac{\\sigma_m(m)\\Delta t}{2\\mu(m)}  \n",
    "}$$"
   ]
  },
  {
   "cell_type": "markdown",
   "metadata": {},
   "source": [
    "$$CQ(m) = \\frac{\n",
    "    \\frac{\\Delta t}{\\mu(m)}\n",
    "}{\n",
    "    1+\\frac{\\sigma_m(m)\\Delta t}{2\\mu(m)}\n",
    "}$$"
   ]
  },
  {
   "cell_type": "markdown",
   "metadata": {},
   "source": [
    "if $\\sigma=\\sigma_m=0$, \n",
    "so,$CA(m)=1, CB(m)=\\frac{\\Delta t}{\\epsilon}, CP(m)=1, CQ(m)=\\frac{\\Delta t}{\\mu}$"
   ]
  },
  {
   "cell_type": "markdown",
   "metadata": {},
   "source": [
    "$$\\kappa = \\sqrt{\\omega^2 \\mu\\epsilon}$$"
   ]
  },
  {
   "cell_type": "markdown",
   "metadata": {},
   "source": [
    "## 3D equations, continual form"
   ]
  },
  {
   "cell_type": "markdown",
   "metadata": {},
   "source": [
    "$$\\frac{\\partial D}{\\partial t} \n",
    "=\n",
    "\\hat{x}\\left(\n",
    "\\frac{1}{\\kappa_y}\\frac{\\partial H_z}{\\partial y}-\\frac{1}{\\kappa_z}\\frac{\\partial H_y}{\\partial z}+\\zeta_y(t)*\\frac{\\partial H_z}{\\partial y}-\\zeta_z(t)*\\frac{\\partial H_y}{\\partial z}\n",
    "\\right)\\\\\n",
    "+\n",
    "\\hat{y}\\left(\n",
    "\\frac{1}{\\kappa_z}\\frac{\\partial H_x}{\\partial z}-\\frac{1}{\\kappa_x}\\frac{\\partial H_z}{\\partial x}+\\zeta_z(t)*\\frac{\\partial H_x}{\\partial z}-\\zeta_x(t)*\\frac{\\partial H_z}{\\partial x}\n",
    "\\right)\\\\\n",
    "+\n",
    "\\hat{z}\\left(\n",
    "\\frac{1}{\\kappa_x}\\frac{\\partial H_y}{\\partial x}-\\frac{1}{\\kappa_y}\\frac{\\partial H_x}{\\partial y}+\\zeta_x(t)*\\frac{\\partial H_y}{\\partial x}-\\zeta_y(t)*\\frac{\\partial H_x}{\\partial y}\n",
    "\\right)$$"
   ]
  },
  {
   "cell_type": "markdown",
   "metadata": {},
   "source": [
    "<br/>"
   ]
  },
  {
   "cell_type": "markdown",
   "metadata": {},
   "source": [
    "$$-\\frac{\\partial B}{\\partial t} \n",
    "=\n",
    "\\hat{x}\\left(\n",
    "\\frac{1}{\\kappa_y}\\frac{\\partial E_z}{\\partial y}-\\frac{1}{\\kappa_z}\\frac{\\partial E_y}{\\partial z}+\\zeta_y(t)*\\frac{\\partial E_z}{\\partial y}-\\zeta_z(t)*\\frac{\\partial E_y}{\\partial z}\n",
    "\\right)\\\\\n",
    "+\n",
    "\\hat{y}\\left(\n",
    "\\frac{1}{\\kappa_z}\\frac{\\partial E_x}{\\partial z}-\\frac{1}{\\kappa_x}\\frac{\\partial E_z}{\\partial x}+\\zeta_z(t)*\\frac{\\partial E_x}{\\partial z}-\\zeta_x(t)*\\frac{\\partial E_z}{\\partial x}\n",
    "\\right)\\\\\n",
    "+\n",
    "\\hat{z}\\left(\n",
    "\\frac{1}{\\kappa_x}\\frac{\\partial E_y}{\\partial x}-\\frac{1}{\\kappa_y}\\frac{\\partial E_x}{\\partial y}+\\zeta_x(t)*\\frac{\\partial E_y}{\\partial x}-\\zeta_y(t)*\\frac{\\partial E_x}{\\partial y}\n",
    "\\right)$$"
   ]
  },
  {
   "cell_type": "markdown",
   "metadata": {},
   "source": [
    "<br/>"
   ]
  },
  {
   "cell_type": "markdown",
   "metadata": {},
   "source": [
    "$$\\psi_{H_{wv}}(n) = c_w \\frac{\\partial E_v(n)}{\\partial w} + \\exp(-\\alpha\\Delta t)\\psi_{H_{wv}}(n-1)$$"
   ]
  },
  {
   "cell_type": "markdown",
   "metadata": {},
   "source": [
    "<br/>"
   ]
  },
  {
   "cell_type": "markdown",
   "metadata": {},
   "source": [
    "$$\\psi_{E_{wv}}(n) = c_w \\frac{\\partial H_v(n)}{\\partial w} + \\exp(-\\alpha\\Delta t)\\psi_{E_{wv}}(n-1)$$"
   ]
  },
  {
   "cell_type": "markdown",
   "metadata": {},
   "source": [
    "## 2D equations, continual form, TM($E_z, H_x, H_y$)"
   ]
  },
  {
   "cell_type": "markdown",
   "metadata": {},
   "source": [
    "$$\\frac{\\partial}{\\partial t}(\\epsilon E_z)=\n",
    "\\frac{1}{\\kappa_x}\\frac{\\partial H_y}{\\partial x}-\\frac{1}{\\kappa_y}\\frac{\\partial H_x}{\\partial y}+\\zeta_x(t)*\\frac{\\partial H_y}{\\partial x}-\\zeta_y(t)*\\frac{\\partial H_x}{\\partial y}\n",
    "=\n",
    "\\frac{1}{\\kappa_x}\\frac{\\partial H_y}{\\partial x}-\\frac{1}{\\kappa_y}\\frac{\\partial H_x}{\\partial y}+\\psi_{E_{xy}}-\\psi_{E_{yx}}$$"
   ]
  },
  {
   "cell_type": "markdown",
   "metadata": {},
   "source": [
    "<br/>"
   ]
  },
  {
   "cell_type": "markdown",
   "metadata": {},
   "source": [
    "$$-\\frac{\\partial}{\\partial t}(\\mu H_x)=\n",
    "\\frac{1}{\\kappa_y}\\frac{\\partial E_z}{\\partial y}-\\frac{1}{\\kappa_z}\\frac{\\partial E_y}{\\partial z}+\\zeta_y(t)*\\frac{\\partial E_z}{\\partial y}-\\zeta_z(t)*\\frac{\\partial E_y}{\\partial z}\n",
    "=\n",
    "\\frac{1}{\\kappa_y}\\frac{\\partial E_z}{\\partial y}-\\frac{1}{\\kappa_z}\\frac{\\partial E_y}{\\partial z}+\\psi_{H_{yz}}-\\psi_{H_{zy}}$$"
   ]
  },
  {
   "cell_type": "markdown",
   "metadata": {},
   "source": [
    "<br/>"
   ]
  },
  {
   "cell_type": "markdown",
   "metadata": {},
   "source": [
    "$$-\\frac{\\partial}{\\partial t}(\\mu H_y)=\n",
    "\\frac{1}{\\kappa_z}\\frac{\\partial E_x}{\\partial z}-\\frac{1}{\\kappa_x}\\frac{\\partial E_z}{\\partial x}+\\zeta_z(t)*\\frac{\\partial E_x}{\\partial z}-\\zeta_x(t)*\\frac{\\partial E_z}{\\partial x}\n",
    "=\n",
    "\\frac{1}{\\kappa_z}\\frac{\\partial E_x}{\\partial z}-\\frac{1}{\\kappa_x}\\frac{\\partial E_z}{\\partial x}+\\psi_{H_{zx}}-\\psi_{H_{xz}}$$"
   ]
  },
  {
   "cell_type": "markdown",
   "metadata": {},
   "source": [
    "<br/>"
   ]
  },
  {
   "cell_type": "markdown",
   "metadata": {},
   "source": [
    "## 2D equations, discrete form, TM($E_z, H_x, H_y$)"
   ]
  },
  {
   "cell_type": "markdown",
   "metadata": {},
   "source": [
    "### 1. Normal FDTD"
   ]
  },
  {
   "cell_type": "markdown",
   "metadata": {},
   "source": [
    "$$E_z^{n+1}(i,j)\n",
    "=\n",
    "E_z^n(i,j)\n",
    "+\\frac{\\Delta t}{\\epsilon}\\left[\n",
    "\\frac{H_y^{n+1/2}(i+\\frac{1}{2},j)-H_y^{n+1/2}(i-\\frac{1}{2},j)}{\\kappa_x \\Delta x}-\\frac{H_x^{n+1/2}(i,j+\\frac{1}{2})-H_x^{n+1/2}(i,j-\\frac{1}{2})}{\\kappa_y \\Delta y}\n",
    "\\right]\n",
    "+\\frac{\\Delta t}{\\epsilon}\\left[\n",
    "\\psi_{E_{xy}}^{n+\\frac{1}{2}}\\left(i,j\\right)-\\psi_{E_{yx}}^{n+\\frac{1}{2}}\\left(i,j\\right)\n",
    "\\right]$$"
   ]
  },
  {
   "cell_type": "markdown",
   "metadata": {},
   "source": [
    "<br/>"
   ]
  },
  {
   "cell_type": "markdown",
   "metadata": {},
   "source": [
    "$$H_x^{n+1/2}\\left( i, j+\\frac{1}{2} \\right)\n",
    "=\n",
    "H_x^{n-1/2}\\left( i, j+\\frac{1}{2} \\right)\n",
    "-\\frac{\\Delta t}{\\mu}\\frac{E_z^n(i,j+1)-E_z^n(i,j)}{\\kappa_y \\Delta y}\n",
    "+\n",
    "\\frac{\\Delta t}{\\mu}\\left[\n",
    "\\psi^n_{H_{zy}}\\left( i, j+\\frac{1}{2} \\right)-\\psi^n_{H_{yz}}\\left( i, j+\\frac{1}{2} \\right)\n",
    "\\right]$$"
   ]
  },
  {
   "cell_type": "markdown",
   "metadata": {},
   "source": [
    "<br/>"
   ]
  },
  {
   "cell_type": "markdown",
   "metadata": {},
   "source": [
    "$$H_y^{n+1/2}\\left( i+\\frac{1}{2},j \\right)\n",
    "=\n",
    "H_y^{n-1/2}\\left( i+\\frac{1}{2},j \\right)\n",
    "+\n",
    "\\frac{\\Delta t}{\\mu}\n",
    "\\frac{E_z^n(i+1,j)-E_z^n(i,j)}{\\kappa_x \\Delta x}\n",
    "+\n",
    "\\frac{\\Delta t}{\\mu}\n",
    "\\left[\n",
    "\\psi^n_{H_{xz}}\\left( i+\\frac{1}{2},j \\right)-\\psi^n_{H_{zx}}\\left( i+\\frac{1}{2},j \\right)\n",
    "\\right]$$"
   ]
  },
  {
   "cell_type": "markdown",
   "metadata": {},
   "source": [
    "<br>"
   ]
  },
  {
   "cell_type": "markdown",
   "metadata": {},
   "source": [
    "### 2. Convolutions"
   ]
  },
  {
   "cell_type": "markdown",
   "metadata": {},
   "source": [
    "$$\\psi_{E_{xy}}^{n+1/2}(i,j) = c_x \\frac{H_y^{n+1/2}(i+1/2,j)-H_y^{n+1/2}(i-1/2,j)}{\\Delta x} + \\exp(-\\alpha\\Delta t)\\psi_{E_{xy}}^{n-1/2}(i,j)$$"
   ]
  },
  {
   "cell_type": "markdown",
   "metadata": {},
   "source": [
    "$$\\psi_{E_{yx}}^{n+1/2}(i,j) = c_y \\frac{H_x^{n+1/2}(i,j+1/2)-H_x^{n+1/2}(i,j-1/2)}{\\Delta y} + \\exp(-\\alpha\\Delta t)\\psi_{E_{yx}}^{n-1/2}(i,j)$$"
   ]
  },
  {
   "cell_type": "markdown",
   "metadata": {},
   "source": [
    "$$\\psi_{H_{wv}}(n) = c_w \\frac{\\partial E_v(n)}{\\partial w} + \\exp(-\\alpha\\Delta t)\\psi_{H_{wv}}(n-1)$$"
   ]
  },
  {
   "cell_type": "markdown",
   "metadata": {},
   "source": [
    "$$\\psi_{H_{zy}}^{n}\\left( i,j+\\frac{1}{2} \\right)\n",
    "= \n",
    "0$$"
   ]
  },
  {
   "cell_type": "markdown",
   "metadata": {},
   "source": [
    "$$\\psi_{H_{yz}}^n \\left( i,j+\\frac{1}{2}\\right)\n",
    "=\n",
    "c_y\\frac{E_z^n(i,j+1)-E_z^n(i,j)}{\\Delta y}\n",
    "+\n",
    "\\exp(-\\alpha\\Delta t)\\psi_{H_{yz}}^{n-1} \\left( i,j+\\frac{1}{2}\\right)$$"
   ]
  },
  {
   "cell_type": "markdown",
   "metadata": {},
   "source": [
    "$$\\psi_{H_{xz}}^n \\left( i+\\frac{1}{2},j\\right)\n",
    "=\n",
    "c_x\\frac{E_z^n(i+1,j)-E_z^n(i,j)}{\\Delta x}\n",
    "+\n",
    "\\exp(-\\alpha\\Delta t)\\psi_{H_{xz}}^{n-1} \\left( i,j+\\frac{1}{2}\\right)$$"
   ]
  },
  {
   "cell_type": "markdown",
   "metadata": {},
   "source": [
    "$$\\psi_{H_{zx}}^{n}\\left( i+\\frac{1}{2},j \\right)\n",
    "= \n",
    "0$$"
   ]
  },
  {
   "cell_type": "markdown",
   "metadata": {},
   "source": [
    "<br>"
   ]
  },
  {
   "cell_type": "markdown",
   "metadata": {},
   "source": [
    "#### Computation steps"
   ]
  },
  {
   "cell_type": "markdown",
   "metadata": {},
   "source": [
    "1. $E\\rightarrow H_{zx} ~\\& ~ H_{xz}$\n",
    "2. $E, H_{zx}, H_{xz} \\rightarrow H$\n",
    "3. $H\\rightarrow E_{yz}, E_{zy}$\n",
    "4. $H, E_{zy}, E{yz} \\rightarrow E$"
   ]
  }
 ],
 "metadata": {
  "kernelspec": {
   "display_name": "Python 2",
   "language": "python",
   "name": "python2"
  },
  "language_info": {
   "codemirror_mode": {
    "name": "ipython",
    "version": 2
   },
   "file_extension": ".py",
   "mimetype": "text/x-python",
   "name": "python",
   "nbconvert_exporter": "python",
   "pygments_lexer": "ipython2",
   "version": "2.7.11"
  }
 },
 "nbformat": 4,
 "nbformat_minor": 0
}
