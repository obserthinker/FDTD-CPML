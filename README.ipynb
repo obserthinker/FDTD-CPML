{
 "cells": [
  {
   "cell_type": "markdown",
   "metadata": {},
   "source": [
    "# FDTD-CPML\n",
    "FDTD with CPML (Coordinate stretched Perfectly Matched Layer)\n",
    "\n",
    "## 1D FDTD, Ex & Hy.\n",
    "\n",
    "### Equations"
   ]
  },
  {
   "cell_type": "markdown",
   "metadata": {},
   "source": [
    "#### Pre"
   ]
  },
  {
   "cell_type": "markdown",
   "metadata": {},
   "source": [
    "$$\\psi_{E_{wv}}(n) = \n",
    "c_{w} \\frac{\\partial H_{v}(n)}{\\partial w}+\n",
    "\\exp(-\\alpha \\Delta t)\\psi_{E_{wv}}(n-1)$$"
   ]
  },
  {
   "cell_type": "markdown",
   "metadata": {},
   "source": [
    "$$\\psi_{H_{wv}}(n) = c_w \\frac{\\partial E_v(n)}{\\partial w} + \\exp(-\\alpha\\Delta t)\\psi_{H_{wv}}(n-1)$$"
   ]
  },
  {
   "cell_type": "markdown",
   "metadata": {},
   "source": [
    "$$\\alpha = \\frac{\\sigma_w}{\\epsilon_0 \\kappa_w} + \\frac{a_w}{\\epsilon_0}$$"
   ]
  },
  {
   "cell_type": "markdown",
   "metadata": {},
   "source": [
    "$$c_{w}=\\frac{\\sigma_w}{\\sigma_w\\kappa_w+\\kappa_w^2 a_w}\\left\\{\n",
    "    exp\\left[\n",
    "        -\\left(\n",
    "            \\frac{\\sigma_w}{\\epsilon_0 \\kappa_w}+\\frac{a_w}{\\epsilon_0}\n",
    "            \\right)\\Delta t\n",
    "        \\right]-1\n",
    "    \\right\\}$$"
   ]
  },
  {
   "cell_type": "markdown",
   "metadata": {},
   "source": [
    "$$CA(m) = \\frac{\n",
    "    1-\\frac{\\sigma(m)\\Delta t}{2\\epsilon(m)}\n",
    "}{\n",
    "1+\\frac{\\sigma(m)\\Delta t}{2\\epsilon(m)}    \n",
    "}$$"
   ]
  },
  {
   "cell_type": "markdown",
   "metadata": {},
   "source": [
    "$$CB(m)=\\frac{\n",
    "    \\frac{\\Delta t}{\\epsilon(m)}\n",
    "}{\n",
    " 1+\\frac{\\sigma(m)\\Delta t}{2\\epsilon(m)}   \n",
    "}$$"
   ]
  },
  {
   "cell_type": "markdown",
   "metadata": {},
   "source": [
    "$$CP(m) = \\frac{\n",
    "    1-\\frac{\\sigma_m(m)\\Delta t}{2\\mu(m)}\n",
    "}{\n",
    "  1+\\frac{\\sigma_m(m)\\Delta t}{2\\mu(m)}  \n",
    "}$$"
   ]
  },
  {
   "cell_type": "markdown",
   "metadata": {},
   "source": [
    "$$CQ(m) = \\frac{\n",
    "    \\frac{\\Delta t}{\\mu(m)}\n",
    "}{\n",
    "    1+\\frac{\\sigma_m(m)\\Delta t}{2\\mu(m)}\n",
    "}$$"
   ]
  },
  {
   "cell_type": "markdown",
   "metadata": {},
   "source": [
    "$$\\kappa = \\sqrt{\\omega^2 \\mu\\epsilon}$$"
   ]
  },
  {
   "cell_type": "markdown",
   "metadata": {},
   "source": [
    "#### 3D equations"
   ]
  },
  {
   "cell_type": "markdown",
   "metadata": {},
   "source": [
    "$$E_{x}^{n+1}\\left( i + \\frac{1}{2}, j, k \\right) = CA(m)E_{x}^{n}\\left( i + \\frac{1}{2}, j, k \\right)\n",
    "+CB(m)\\left[ \n",
    "\\frac{ H_z^{n+\\frac{1}{2}}\\left(i+\\frac{1}{2},j+\\frac{1}{2},k\\right)-H_z^{n+\\frac{1}{2}}\\left(i+\\frac{1}{2},j-\\frac{1}{2},k\\right) }{\\kappa_y(m)\\Delta y}\n",
    "-\n",
    "\\frac{H_y^{n+\\frac{1}{2}}\\left(i+\\frac{1}{2},j,k+\\frac{1}{2}\\right)-H_y^{n+\\frac{1}{2}}\\left(i+\\frac{1}{2},j,k-\\frac{1}{2}\\right)}{\\kappa_z(m)\\Delta z}\n",
    "\\right]\n",
    "+CB(m)\\left[\n",
    "\\psi_{E_{yz}}^{n+\\frac{1}{2}}\\left(i+\\frac{1}{2},j,k\\right)-\\psi_{E_{zy}}^{n+\\frac{1}{2}}\\left(i+\\frac{1}{2},j,k\\right)\n",
    "\\right]$$"
   ]
  },
  {
   "cell_type": "markdown",
   "metadata": {},
   "source": [
    "<br/>"
   ]
  },
  {
   "cell_type": "markdown",
   "metadata": {},
   "source": [
    "$$H_y^{n+\\frac{1}{2}}\\left( i+\\frac{1}{2},j,k+\\frac{1}{2} \\right) = CP(m)H_y^{n-\\frac{1}{2}}\\left( i+\\frac{1}{2},j,k+\\frac{1}{2} \\right)\\\\\n",
    "-CQ(m)\\left[\n",
    "\\frac{E_x^n\\left(i+\\frac{1}{2}, j, k+1\\right) - E_z^n\\left(i+\\frac{1}{2},j,k\\right)}{\\kappa_y(m) \\Delta z}\n",
    "-\n",
    "\\frac{E_z^n\\left(i+1,j,k+\\frac{1}{2}\\right) - E_z^n\\left(i,j,k+\\frac{1}{2}\\right)}{\\kappa_z(m) \\Delta x}\\right]\\\\\n",
    "-CQ(m)\\left[\n",
    "\\psi_{H_{zx}}^n\\left(i+\\frac{1}{2},j,k+\\frac{1}{2}\\right)-\\psi^n_{H_{xz}}\\left(i+\\frac{1}{2},j,k+\\frac{1}{2}\\right)\n",
    "\\right]$$"
   ]
  },
  {
   "cell_type": "markdown",
   "metadata": {},
   "source": [
    "<br/>"
   ]
  },
  {
   "cell_type": "markdown",
   "metadata": {},
   "source": [
    "$$\\psi_{E_{yz}}^{n+\\frac{1}{2}}\\left( i+\\frac{1}{2},j,k \\right)=\\exp(-\\alpha \\Delta t)\\psi_{E_{yz}}^{n-\\frac{1}{2}}\\left( i+\\frac{1}{2},j,k \\right)\n",
    "+c_y(m)\\frac{\n",
    "H_z^{n+1/2}(i+1/2,j,k+1/2)-H_z^{n+1/2}(i+1/2,j,k-1/2)\n",
    "}{\n",
    "\\Delta y\n",
    "}$$"
   ]
  },
  {
   "cell_type": "markdown",
   "metadata": {},
   "source": [
    "<br/>"
   ]
  },
  {
   "cell_type": "markdown",
   "metadata": {},
   "source": [
    "#### 1D equations, TEM mode"
   ]
  },
  {
   "cell_type": "markdown",
   "metadata": {},
   "source": [
    "$$E_{x}^{n+1}\\left( k \\right) = CA(m)E_{x}^{n}\\left( k \\right)\\\\\n",
    "+CB(m)\\left[ -\\frac{H_y^{n+\\frac{1}{2}}\\left(k+\\frac{1}{2}\\right)-H_y^{n+\\frac{1}{2}}\\left(k-\\frac{1}{2}\\right)}{\\kappa_z(m)\\Delta z}\n",
    "\\right]\n",
    "+CB(m)\\left[\n",
    "\\psi_{E_{yz}}^{n+\\frac{1}{2}}\\left(k\\right)-\\psi_{E_{zy}}^{n+\\frac{1}{2}}\\left(k\\right)\n",
    "\\right]$$\n",
    "\n"
   ]
  },
  {
   "cell_type": "markdown",
   "metadata": {},
   "source": [
    "<br/>"
   ]
  },
  {
   "cell_type": "markdown",
   "metadata": {},
   "source": [
    "$$H_y^{n+\\frac{1}{2}}\\left(k+\\frac{1}{2} \\right) = CP(m)H_y^{n-\\frac{1}{2}}\\left( k+\\frac{1}{2} \\right)\\\\\n",
    "-CQ(m)\\left[\n",
    "\\frac{E_x^n\\left(k+1\\right) - E_x^n\\left(k\\right)}{\\kappa_z \\Delta z}\\right]\n",
    "-CQ(m)\\left[\n",
    "\\psi_{H_{zx}}^n\\left(k+\\frac{1}{2}\\right)-\\psi^n_{H_{xz}}\\left(k+\\frac{1}{2}\\right)\n",
    "\\right]$$"
   ]
  },
  {
   "cell_type": "markdown",
   "metadata": {},
   "source": [
    "<br/>"
   ]
  },
  {
   "cell_type": "markdown",
   "metadata": {},
   "source": [
    "$$\\psi_{E_{yz}}^{n+\\frac{1}{2}}\\left( k \\right)=\\exp(-\\alpha \\Delta t)\\psi_{E_{yz}}^{n-\\frac{1}{2}}\\left( k \\right)\n",
    "+c_y(m)\\frac{\n",
    "H_z^{n+1/2}(k+1/2)-H_z^{n+1/2}(k-1/2)\n",
    "}{\n",
    "\\Delta y\n",
    "}$$"
   ]
  },
  {
   "cell_type": "markdown",
   "metadata": {},
   "source": [
    "<br/>"
   ]
  },
  {
   "cell_type": "markdown",
   "metadata": {},
   "source": [
    "$$\\psi_{E_{zy}}^{n+\\frac{1}{2}}\\left( k \\right)=\\exp(-\\alpha \\Delta t)\\psi_{E_{zy}}^{n-\\frac{1}{2}}\\left( k \\right)\n",
    "+c_z(m)\\frac{\n",
    "H_y^{n+1/2}(k+1/2)-H_y^{n+1/2}(k-1/2)\n",
    "}{\n",
    "\\Delta z\n",
    "}$$"
   ]
  },
  {
   "cell_type": "markdown",
   "metadata": {},
   "source": [
    "<br/>"
   ]
  },
  {
   "cell_type": "markdown",
   "metadata": {},
   "source": [
    "if $$\\sigma=\\sigma_m=0, CA(m)=1, CB(m)=\\frac{\\Delta t}{\\epsilon}, CP(m)=1, CQ(m)=\\frac{\\Delta t}{\\mu}$$\n",
    "\n",
    "so,"
   ]
  },
  {
   "cell_type": "markdown",
   "metadata": {},
   "source": [
    "$$E_{x}^{n+1}\\left( k \\right) = E_{x}^{n}\\left( k \\right)\\\\\n",
    "+\\frac{\\Delta t}{\\epsilon}\\left[ -\\frac{H_y^{n+\\frac{1}{2}}\\left(k+\\frac{1}{2}\\right)-H_y^{n+\\frac{1}{2}}\\left(k-\\frac{1}{2}\\right)}{\\kappa_z(m)\\Delta z}\n",
    "\\right]\n",
    "+\\frac{\\Delta t}{\\epsilon}\\left[\n",
    "\\psi_{E_{yz}}^{n+\\frac{1}{2}}\\left(k\\right)-\\psi_{E_{zy}}^{n+\\frac{1}{2}}\\left(k\\right)\n",
    "\\right]$$"
   ]
  },
  {
   "cell_type": "markdown",
   "metadata": {},
   "source": [
    "$$H_y^{n+\\frac{1}{2}}\\left(k+\\frac{1}{2} \\right) = H_y^{n-\\frac{1}{2}}\\left( k+\\frac{1}{2} \\right)\\\\\n",
    "-\\frac{\\Delta t}{\\mu}\\left[\n",
    "\\frac{E_x^n\\left(k+1\\right) - E_x^n\\left(k\\right)}{\\kappa_z \\Delta z}\\right]\n",
    "-\\frac{\\Delta t}{\\mu}\\left[\n",
    "\\psi_{H_{zx}}^n\\left(k+\\frac{1}{2}\\right)-\\psi^n_{H_{xz}}\\left(k+\\frac{1}{2}\\right)\n",
    "\\right]$$"
   ]
  },
  {
   "cell_type": "markdown",
   "metadata": {},
   "source": [
    "<br/>"
   ]
  },
  {
   "cell_type": "markdown",
   "metadata": {},
   "source": [
    "### CPML, With a=0"
   ]
  },
  {
   "cell_type": "markdown",
   "metadata": {},
   "source": [
    "<br>"
   ]
  },
  {
   "cell_type": "markdown",
   "metadata": {},
   "source": [
    "#### Convolution:"
   ]
  },
  {
   "cell_type": "markdown",
   "metadata": {},
   "source": [
    "$$\\psi_{E_{yz}}^{n+\\frac{1}{2}}\\left( k \\right)=\\exp(-\\alpha \\Delta t)\\psi_{E_{yz}}^{n-\\frac{1}{2}}\\left( k \\right)$$"
   ]
  },
  {
   "cell_type": "markdown",
   "metadata": {},
   "source": [
    "$$\\psi_{E_{zy}}^{n+\\frac{1}{2}}\\left( k \\right)=\\exp(-\\alpha \\Delta t)\\psi_{E_{zy}}^{n-\\frac{1}{2}}\\left( k \\right)\n",
    "+c_z(m)\\frac{\n",
    "H_y^{n+1/2}(k+1/2)-H_y^{n+1/2}(k-1/2)\n",
    "}{\n",
    "\\Delta z\n",
    "}$$"
   ]
  },
  {
   "cell_type": "markdown",
   "metadata": {},
   "source": [
    "$$\\psi_{H_{wv}}(n) = c_w \\frac{\\partial E_v(n)}{\\partial w} + \\exp(-\\alpha\\Delta t)\\psi_{H_{wv}}(n-1)$$"
   ]
  },
  {
   "cell_type": "markdown",
   "metadata": {},
   "source": [
    "$$\\psi_{H_{zx}}^n\\left(k+\\frac{1}{2}\\right) = \\exp(-\\alpha\\Delta t)\\psi_{H_{zx}}^{n-1}\\left( k+\\frac{1}{2} \\right)\n",
    "+c_z(m)\\frac{\n",
    "E_{x}^{n}(k+1)-E_{x}^{n}(k)\n",
    "}{\n",
    "\\Delta z\n",
    "}\n",
    "$$"
   ]
  },
  {
   "cell_type": "markdown",
   "metadata": {},
   "source": [
    "$$\\psi_{H_{xz}}^n\\left(k+\\frac{1}{2}\\right) = \\exp(-\\alpha\\Delta t)\\psi_{H_{xz}}^{n-1}\\left( k+\\frac{1}{2} \\right)$$"
   ]
  },
  {
   "cell_type": "markdown",
   "metadata": {},
   "source": [
    "- set $a_w=0$, so \n",
    "$$\\alpha = \\frac{\\sigma_w}{\\epsilon_0 \\kappa_w}$$\n",
    "\n",
    "$$c_w=\\frac{1}{\\kappa_w}\\left\\{ \n",
    "\\exp\\left[\n",
    "-\\frac{\\sigma_w}{\\epsilon_0 \\kappa_w}\\Delta t\n",
    "\\right]-1\n",
    "\\right\\}$$"
   ]
  },
  {
   "cell_type": "markdown",
   "metadata": {},
   "source": [
    "$$\\sigma_z(z) = \\frac{\\sigma_{max}|z-z_0|^m}{d^m}$$"
   ]
  },
  {
   "cell_type": "markdown",
   "metadata": {},
   "source": [
    "$$\\sigma_{max}=\\frac{m+1}{\\sqrt{\\epsilon_r}150\\pi\\delta}$$"
   ]
  },
  {
   "cell_type": "markdown",
   "metadata": {},
   "source": [
    "#### Electronic field:"
   ]
  },
  {
   "cell_type": "markdown",
   "metadata": {},
   "source": [
    "$$E_{x}^{n+1}\\left( k \\right) = E_{x}^{n}\\left( k \\right)+\\frac{\\Delta t}{\\epsilon}\\left[ -\\frac{H_y^{n+\\frac{1}{2}}\\left(k+\\frac{1}{2}\\right)-H_y^{n+\\frac{1}{2}}\\left(k-\\frac{1}{2}\\right)}{\\kappa_z(z)\\Delta z}\n",
    "\\right]\n",
    "+\\frac{\\Delta t}{\\epsilon}\\left[\n",
    "\\psi_{E_{yz}}^{n+\\frac{1}{2}}\\left(k\\right)-\\psi_{E_{zy}}^{n+\\frac{1}{2}}\\left(k\\right)\n",
    "\\right]$$"
   ]
  },
  {
   "cell_type": "markdown",
   "metadata": {},
   "source": [
    "- $$\\kappa_z(z) = 1 + (\\kappa_{max} - 1)\\frac{|z-z_0|^m}{d^m}$$"
   ]
  },
  {
   "cell_type": "markdown",
   "metadata": {},
   "source": [
    "- $k_{max}=5 ~--~ 11$, There is 8. $d$ is the width of the PML layer. $m$ is a integer, we set $m=4$."
   ]
  },
  {
   "cell_type": "markdown",
   "metadata": {},
   "source": [
    "<br>"
   ]
  },
  {
   "cell_type": "markdown",
   "metadata": {},
   "source": [
    "#### Magnetic field:"
   ]
  },
  {
   "cell_type": "markdown",
   "metadata": {},
   "source": [
    "$$H_y^{n+\\frac{1}{2}}\\left(k+\\frac{1}{2} \\right) = H_y^{n-\\frac{1}{2}}\\left( k+\\frac{1}{2} \\right)\n",
    "-\\frac{\\Delta t}{\\mu}\\left[\n",
    "\\frac{E_x^n\\left(k+1\\right) - E_x^n\\left(k\\right)}{\\kappa_z \\Delta z}\\right]\n",
    "-\\frac{\\Delta t}{\\mu}\\left[\n",
    "\\psi_{H_{zx}}^n\\left(k+\\frac{1}{2}\\right)-\\psi^n_{H_{xz}}\\left(k+\\frac{1}{2}\\right)\n",
    "\\right]$$"
   ]
  },
  {
   "cell_type": "markdown",
   "metadata": {},
   "source": [
    "<br>"
   ]
  },
  {
   "cell_type": "markdown",
   "metadata": {},
   "source": [
    "<br>"
   ]
  },
  {
   "cell_type": "markdown",
   "metadata": {},
   "source": [
    "#### Computation steps"
   ]
  },
  {
   "cell_type": "markdown",
   "metadata": {},
   "source": [
    "1. $E\\rightarrow H_{zx} ~\\& ~ H_{xz}$\n",
    "2. $E, H_{zx}, H_{xz} \\rightarrow H$\n",
    "3. $H\\rightarrow E_{yz}, E_{zy}$\n",
    "4. $H, E_{zy}, E{yz} \\rightarrow E$"
   ]
  }
 ],
 "metadata": {
  "kernelspec": {
   "display_name": "Python 2",
   "language": "python",
   "name": "python2"
  },
  "language_info": {
   "codemirror_mode": {
    "name": "ipython",
    "version": 2
   },
   "file_extension": ".py",
   "mimetype": "text/x-python",
   "name": "python",
   "nbconvert_exporter": "python",
   "pygments_lexer": "ipython2",
   "version": "2.7.11"
  }
 },
 "nbformat": 4,
 "nbformat_minor": 0
}
